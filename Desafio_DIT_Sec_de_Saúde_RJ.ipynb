{
  "nbformat": 4,
  "nbformat_minor": 0,
  "metadata": {
    "colab": {
      "provenance": [],
      "mount_file_id": "1VKFJ9mZc6FCAIhoHR4Ctd77MLf-_pEh3",
      "authorship_tag": "ABX9TyPIPnkboP9ilFLYH5jSNiqO",
      "include_colab_link": true
    },
    "kernelspec": {
      "name": "python3",
      "display_name": "Python 3"
    },
    "language_info": {
      "name": "python"
    }
  },
  "cells": [
    {
      "cell_type": "markdown",
      "metadata": {
        "id": "view-in-github",
        "colab_type": "text"
      },
      "source": [
        "<a href=\"https://colab.research.google.com/github/bbellaborges/Desafio-CD-DIT/blob/main/Desafio_DIT_Sec_de_Sa%C3%BAde_RJ.ipynb\" target=\"_parent\"><img src=\"https://colab.research.google.com/assets/colab-badge.svg\" alt=\"Open In Colab\"/></a>"
      ]
    },
    {
      "cell_type": "markdown",
      "source": [
        "# ✨Exploração e Análide de Dados"
      ],
      "metadata": {
        "id": "gDYkor0mlqdL"
      }
    },
    {
      "cell_type": "code",
      "execution_count": 1,
      "metadata": {
        "colab": {
          "base_uri": "https://localhost:8080/",
          "height": 73
        },
        "id": "oNurq8Z631_K",
        "outputId": "0cb97837-779d-4835-bf44-a4f28df85f46"
      },
      "outputs": [
        {
          "output_type": "display_data",
          "data": {
            "text/plain": [
              "<IPython.core.display.HTML object>"
            ],
            "text/html": [
              "\n",
              "     <input type=\"file\" id=\"files-5bdc6ef1-05f1-4109-b41f-1cb2fd349aef\" name=\"files[]\" multiple disabled\n",
              "        style=\"border:none\" />\n",
              "     <output id=\"result-5bdc6ef1-05f1-4109-b41f-1cb2fd349aef\">\n",
              "      Upload widget is only available when the cell has been executed in the\n",
              "      current browser session. Please rerun this cell to enable.\n",
              "      </output>\n",
              "      <script>// Copyright 2017 Google LLC\n",
              "//\n",
              "// Licensed under the Apache License, Version 2.0 (the \"License\");\n",
              "// you may not use this file except in compliance with the License.\n",
              "// You may obtain a copy of the License at\n",
              "//\n",
              "//      http://www.apache.org/licenses/LICENSE-2.0\n",
              "//\n",
              "// Unless required by applicable law or agreed to in writing, software\n",
              "// distributed under the License is distributed on an \"AS IS\" BASIS,\n",
              "// WITHOUT WARRANTIES OR CONDITIONS OF ANY KIND, either express or implied.\n",
              "// See the License for the specific language governing permissions and\n",
              "// limitations under the License.\n",
              "\n",
              "/**\n",
              " * @fileoverview Helpers for google.colab Python module.\n",
              " */\n",
              "(function(scope) {\n",
              "function span(text, styleAttributes = {}) {\n",
              "  const element = document.createElement('span');\n",
              "  element.textContent = text;\n",
              "  for (const key of Object.keys(styleAttributes)) {\n",
              "    element.style[key] = styleAttributes[key];\n",
              "  }\n",
              "  return element;\n",
              "}\n",
              "\n",
              "// Max number of bytes which will be uploaded at a time.\n",
              "const MAX_PAYLOAD_SIZE = 100 * 1024;\n",
              "\n",
              "function _uploadFiles(inputId, outputId) {\n",
              "  const steps = uploadFilesStep(inputId, outputId);\n",
              "  const outputElement = document.getElementById(outputId);\n",
              "  // Cache steps on the outputElement to make it available for the next call\n",
              "  // to uploadFilesContinue from Python.\n",
              "  outputElement.steps = steps;\n",
              "\n",
              "  return _uploadFilesContinue(outputId);\n",
              "}\n",
              "\n",
              "// This is roughly an async generator (not supported in the browser yet),\n",
              "// where there are multiple asynchronous steps and the Python side is going\n",
              "// to poll for completion of each step.\n",
              "// This uses a Promise to block the python side on completion of each step,\n",
              "// then passes the result of the previous step as the input to the next step.\n",
              "function _uploadFilesContinue(outputId) {\n",
              "  const outputElement = document.getElementById(outputId);\n",
              "  const steps = outputElement.steps;\n",
              "\n",
              "  const next = steps.next(outputElement.lastPromiseValue);\n",
              "  return Promise.resolve(next.value.promise).then((value) => {\n",
              "    // Cache the last promise value to make it available to the next\n",
              "    // step of the generator.\n",
              "    outputElement.lastPromiseValue = value;\n",
              "    return next.value.response;\n",
              "  });\n",
              "}\n",
              "\n",
              "/**\n",
              " * Generator function which is called between each async step of the upload\n",
              " * process.\n",
              " * @param {string} inputId Element ID of the input file picker element.\n",
              " * @param {string} outputId Element ID of the output display.\n",
              " * @return {!Iterable<!Object>} Iterable of next steps.\n",
              " */\n",
              "function* uploadFilesStep(inputId, outputId) {\n",
              "  const inputElement = document.getElementById(inputId);\n",
              "  inputElement.disabled = false;\n",
              "\n",
              "  const outputElement = document.getElementById(outputId);\n",
              "  outputElement.innerHTML = '';\n",
              "\n",
              "  const pickedPromise = new Promise((resolve) => {\n",
              "    inputElement.addEventListener('change', (e) => {\n",
              "      resolve(e.target.files);\n",
              "    });\n",
              "  });\n",
              "\n",
              "  const cancel = document.createElement('button');\n",
              "  inputElement.parentElement.appendChild(cancel);\n",
              "  cancel.textContent = 'Cancel upload';\n",
              "  const cancelPromise = new Promise((resolve) => {\n",
              "    cancel.onclick = () => {\n",
              "      resolve(null);\n",
              "    };\n",
              "  });\n",
              "\n",
              "  // Wait for the user to pick the files.\n",
              "  const files = yield {\n",
              "    promise: Promise.race([pickedPromise, cancelPromise]),\n",
              "    response: {\n",
              "      action: 'starting',\n",
              "    }\n",
              "  };\n",
              "\n",
              "  cancel.remove();\n",
              "\n",
              "  // Disable the input element since further picks are not allowed.\n",
              "  inputElement.disabled = true;\n",
              "\n",
              "  if (!files) {\n",
              "    return {\n",
              "      response: {\n",
              "        action: 'complete',\n",
              "      }\n",
              "    };\n",
              "  }\n",
              "\n",
              "  for (const file of files) {\n",
              "    const li = document.createElement('li');\n",
              "    li.append(span(file.name, {fontWeight: 'bold'}));\n",
              "    li.append(span(\n",
              "        `(${file.type || 'n/a'}) - ${file.size} bytes, ` +\n",
              "        `last modified: ${\n",
              "            file.lastModifiedDate ? file.lastModifiedDate.toLocaleDateString() :\n",
              "                                    'n/a'} - `));\n",
              "    const percent = span('0% done');\n",
              "    li.appendChild(percent);\n",
              "\n",
              "    outputElement.appendChild(li);\n",
              "\n",
              "    const fileDataPromise = new Promise((resolve) => {\n",
              "      const reader = new FileReader();\n",
              "      reader.onload = (e) => {\n",
              "        resolve(e.target.result);\n",
              "      };\n",
              "      reader.readAsArrayBuffer(file);\n",
              "    });\n",
              "    // Wait for the data to be ready.\n",
              "    let fileData = yield {\n",
              "      promise: fileDataPromise,\n",
              "      response: {\n",
              "        action: 'continue',\n",
              "      }\n",
              "    };\n",
              "\n",
              "    // Use a chunked sending to avoid message size limits. See b/62115660.\n",
              "    let position = 0;\n",
              "    do {\n",
              "      const length = Math.min(fileData.byteLength - position, MAX_PAYLOAD_SIZE);\n",
              "      const chunk = new Uint8Array(fileData, position, length);\n",
              "      position += length;\n",
              "\n",
              "      const base64 = btoa(String.fromCharCode.apply(null, chunk));\n",
              "      yield {\n",
              "        response: {\n",
              "          action: 'append',\n",
              "          file: file.name,\n",
              "          data: base64,\n",
              "        },\n",
              "      };\n",
              "\n",
              "      let percentDone = fileData.byteLength === 0 ?\n",
              "          100 :\n",
              "          Math.round((position / fileData.byteLength) * 100);\n",
              "      percent.textContent = `${percentDone}% done`;\n",
              "\n",
              "    } while (position < fileData.byteLength);\n",
              "  }\n",
              "\n",
              "  // All done.\n",
              "  yield {\n",
              "    response: {\n",
              "      action: 'complete',\n",
              "    }\n",
              "  };\n",
              "}\n",
              "\n",
              "scope.google = scope.google || {};\n",
              "scope.google.colab = scope.google.colab || {};\n",
              "scope.google.colab._files = {\n",
              "  _uploadFiles,\n",
              "  _uploadFilesContinue,\n",
              "};\n",
              "})(self);\n",
              "</script> "
            ]
          },
          "metadata": {}
        },
        {
          "output_type": "stream",
          "name": "stdout",
          "text": [
            "Saving Dados_ficha.csv to Dados_ficha.csv\n"
          ]
        }
      ],
      "source": [
        "from google.colab import files #carregando a base de dados\n",
        "uploaded = files.upload()"
      ]
    },
    {
      "cell_type": "markdown",
      "source": [
        "## Carregar os dados e visualizar uma amostra\n",
        "Aqui, vamos importar a biblioteca pandas, a partir da qual faremos uso de funções para analisar nossos dados. Carregaremos os dados e armazenaremos na variável df, por fim, veremos as primeiras linhas de cada uma das colunas da tabela para termos uma **ideia geral de como os dados estão estruturados**.\n",
        "\n",
        "Isso vai nos permitir verificar se os dados foram carregados de forma correta, além de entender sua organização e as colunas que temos."
      ],
      "metadata": {
        "id": "HXkKwe8P6I3h"
      }
    },
    {
      "cell_type": "code",
      "source": [
        "import pandas as pd #importando biblioteca para explorar e analisar os dados\n",
        "\n",
        "df = pd.read_csv(\"Dados_ficha.csv\") #carrega dados\n",
        "\n",
        "#Exibe amostra dos dados\n",
        "pd.set_option('display.max_columns', None) #para exibir todas as colunas\n",
        "print(df.head()) #Visualizar os primeiros 5 casos de cada variável"
      ],
      "metadata": {
        "colab": {
          "base_uri": "https://localhost:8080/"
        },
        "collapsed": true,
        "id": "EC-rSxqcnTVw",
        "outputId": "9fa5c8e2-da85-4a39-c5b5-43680ca62fdb"
      },
      "execution_count": 2,
      "outputs": [
        {
          "output_type": "stream",
          "name": "stdout",
          "text": [
            "                            id_paciente    sexo  obito           bairro  \\\n",
            "0  cd6daa6e-038d-4952-af29-579e62e07f97    male      0  Parada de Lucas   \n",
            "1  ad6cecb2-3a44-49ab-b2f3-6f9ffc2e2ec7    male      0      Cidade Nova   \n",
            "2  54e834e7-e722-4daa-8909-cf917a1247e6    male      0       Santa cruz   \n",
            "3  c6a71e5e-0933-48d1-9d5a-8f448dc37f71  female  False            Bangu   \n",
            "4  d5262a3c-e5d3-4195-a46b-0acd2533e1d6    male      0       Santíssimo   \n",
            "\n",
            "  raca_cor                          ocupacao      religiao luz_eletrica  \\\n",
            "0   Branca                     Não se aplica  Sem religião         True   \n",
            "1    Parda         Assistente Administrativo    Evangélica            1   \n",
            "2    Parda                     Não se aplica      Católica            1   \n",
            "3   Branca  Representante Comercial Autônomo  Sem religião            1   \n",
            "4   Branca               Técnico Eletricista         Outra         True   \n",
            "\n",
            "             data_cadastro            escolaridade nacionalidade  \\\n",
            "0  2021-06-24 00:00:00.000  Fundamental Incompleto    Brasileira   \n",
            "1  2021-01-07 00:00:00.000        Médio Incompleto    Brasileira   \n",
            "2  2021-02-18 00:00:00.000    Fundamental Completo    Brasileira   \n",
            "3      2022-03-09 10:40:37            Alfabetizado    Brasileira   \n",
            "4      2022-12-13 18:30:45          Médio Completo    Brasileira   \n",
            "\n",
            "       renda_familiar data_nascimento em_situacao_de_rua  frequenta_escola  \\\n",
            "0  2 Salários Mínimos      1996-06-25                  0                 0   \n",
            "1    1 Salário Mínimo      1952-12-20                  0                 0   \n",
            "2    1 Salário Mínimo      1931-11-14                  0                 0   \n",
            "3  1/2 Salário Mínimo      1988-12-06                  0                 0   \n",
            "4    1 Salário Mínimo      1971-01-26                  0                 1   \n",
            "\n",
            "             meios_transporte doencas_condicoes identidade_genero  \\\n",
            "0                      Ônibus        [\"Outros\"]               Cis   \n",
            "1                      Ônibus       Hipertensão               Não   \n",
            "2  Carro, Metrô, Ônibus, Trem                []               Não   \n",
            "3               Carro, Ônibus        [\"Outros\"]               Não   \n",
            "4               Metrô, Ônibus                []               Não   \n",
            "\n",
            "                                   meios_comunicacao orientacao_sexual  \\\n",
            "0                                Internet, Televisão     Heterossexual   \n",
            "1                                Internet, Televisão     Heterossexual   \n",
            "2                                                 []     Heterossexual   \n",
            "3  [\"R\\u00e1dio\", \"Televis\\u00e3o\", \"Jornal\", \"In...     Heterossexual   \n",
            "4           [\"Televis\\u00e3o\", \"Internet\", \"Jornal\"]     Heterossexual   \n",
            "\n",
            "  possui_plano_saude              em_caso_doenca_procura  \\\n",
            "0              False                    Hospital Público   \n",
            "1                  1                                  []   \n",
            "2                  0  Hospital Público, Unidade de Saúde   \n",
            "3                  0                    Hospital Público   \n",
            "4                  0                                  []   \n",
            "\n",
            "             situacao_profissional vulnerabilidade_social  \\\n",
            "0                   Emprego Formal                      0   \n",
            "1  Autônomo com previdência social                      0   \n",
            "2                   Emprego Formal                      0   \n",
            "3                    Não se aplica                      0   \n",
            "4                     Não trabalha                      0   \n",
            "\n",
            "  data_atualizacao_cadastro familia_beneficiaria_auxilio_brasil  \\\n",
            "0   2022-07-08 22:45:09.710                                   0   \n",
            "1   2022-07-10 17:48:09.600                                   1   \n",
            "2       2023-05-06 09:19:33                                   0   \n",
            "3   2022-03-15 09:35:04.550                                   1   \n",
            "4       2022-07-03 22:52:09                                   0   \n",
            "\n",
            "  crianca_matriculada_creche_pre_escola  altura  peso  pressao_sistolica  \\\n",
            "0                                     0   172.0  52.5              110.0   \n",
            "1                                     0   158.0  76.2              140.0   \n",
            "2                                     0    53.0  82.5              180.0   \n",
            "3                                     1   164.0  90.6              120.0   \n",
            "4                                     0   154.0   8.5              180.0   \n",
            "\n",
            "   pressao_diastolica  n_atendimentos_atencao_primaria  \\\n",
            "0                70.0                                8   \n",
            "1                80.0                                0   \n",
            "2                60.0                                5   \n",
            "3                70.0                                0   \n",
            "4                80.0                               25   \n",
            "\n",
            "   n_atendimentos_hospital               updated_at       tipo  \n",
            "0                        9  2021-06-01 00:00:00.000  historico  \n",
            "1                        6  2020-06-25 00:00:00.000  historico  \n",
            "2                        2  2020-03-02 00:00:00.000  historico  \n",
            "3                       27  2021-11-05 11:08:17.477  rotineiro  \n",
            "4                        0  2020-11-11 00:00:00.000  historico  \n"
          ]
        }
      ]
    },
    {
      "cell_type": "markdown",
      "source": [
        "O carregamento do dataset foi bem-sucedido, confirmando que temos 100.000 registros e 31 colunas. Isso já nos dá uma noção do volume de dados que estamos lidando e da necessidade de um processamento eficiente."
      ],
      "metadata": {
        "id": "WVo2BFkhbk_b"
      }
    },
    {
      "cell_type": "markdown",
      "source": [
        "## Classificação dos Campos: tipos das variáveis\n",
        "Vamos exibir o tipo de dado contido em cada coluna/variável, isto é, se é um int, float, object ou datetime. Com isso, saberemos se cada variável tem o tipo correto (de acordo com o esperado para sua descrição, por exemplo, pra idade se espera um número), assim podemos evitar problemas na análise. No caso de colunas numéricas tratadas como object(texto), por exemplo, saberemos que temos um problema na **ingestão dos dados**.\n"
      ],
      "metadata": {
        "id": "DPYHUGTqsHA0"
      }
    },
    {
      "cell_type": "code",
      "source": [
        "print(\"\\nTipos das variáveis:\\n\", df.dtypes) #Identifica os tipos de cada coluna"
      ],
      "metadata": {
        "colab": {
          "base_uri": "https://localhost:8080/"
        },
        "collapsed": true,
        "id": "7LLv1sZIsGOM",
        "outputId": "2772c116-0005-4e0c-bbcf-ebe68752f313"
      },
      "execution_count": 8,
      "outputs": [
        {
          "output_type": "stream",
          "name": "stdout",
          "text": [
            "\n",
            "Tipos das variáveis:\n",
            " id_paciente                               object\n",
            "sexo                                      object\n",
            "obito                                     object\n",
            "bairro                                    object\n",
            "raca_cor                                  object\n",
            "ocupacao                                  object\n",
            "religiao                                  object\n",
            "luz_eletrica                              object\n",
            "data_cadastro                             object\n",
            "escolaridade                              object\n",
            "nacionalidade                             object\n",
            "renda_familiar                            object\n",
            "data_nascimento                           object\n",
            "em_situacao_de_rua                        object\n",
            "frequenta_escola                           int64\n",
            "meios_transporte                          object\n",
            "doencas_condicoes                         object\n",
            "identidade_genero                         object\n",
            "meios_comunicacao                         object\n",
            "orientacao_sexual                         object\n",
            "possui_plano_saude                        object\n",
            "em_caso_doenca_procura                    object\n",
            "situacao_profissional                     object\n",
            "vulnerabilidade_social                    object\n",
            "data_atualizacao_cadastro                 object\n",
            "familia_beneficiaria_auxilio_brasil       object\n",
            "crianca_matriculada_creche_pre_escola     object\n",
            "altura                                   float64\n",
            "peso                                     float64\n",
            "pressao_sistolica                        float64\n",
            "pressao_diastolica                       float64\n",
            "n_atendimentos_atencao_primaria            int64\n",
            "n_atendimentos_hospital                    int64\n",
            "updated_at                                object\n",
            "tipo                                      object\n",
            "dtype: object\n"
          ]
        }
      ]
    },
    {
      "cell_type": "markdown",
      "source": [
        "A classificação das variáveis mostrou a diversidade de informações coletadas. Temos variáveis numéricas, categóricas e booleanas, cada uma com características específicas que precisarão de tratamentos distintos. A distinção correta dessas variáveis facilitará análises mais direcionadas na Parte 2, onde avaliaremos possíveis inconsistências."
      ],
      "metadata": {
        "id": "WGfDC42Ybqaf"
      }
    },
    {
      "cell_type": "markdown",
      "source": [
        "## Identificação de valores ausentes\n",
        "\n",
        "Vamos buscar quantos valores ausentes (NaN) existem em cada coluna. Faremos isso porque dados faltantes podem impactar nossas análises, além disso, colunas com um grande número de dados ausentes podem **indicar problemas na coleta**."
      ],
      "metadata": {
        "id": "vdvLnXje8QAc"
      }
    },
    {
      "cell_type": "code",
      "source": [
        "print(\"\\nValores ausentes:\\n\", df.isnull().sum()) #Identifica valores ausentes e a completude do dataset"
      ],
      "metadata": {
        "colab": {
          "base_uri": "https://localhost:8080/"
        },
        "collapsed": true,
        "id": "RCySPdkZtElm",
        "outputId": "4e18ca7f-307f-4fb0-b267-44fff86517e5"
      },
      "execution_count": 9,
      "outputs": [
        {
          "output_type": "stream",
          "name": "stdout",
          "text": [
            "\n",
            "Valores ausentes:\n",
            " id_paciente                                0\n",
            "sexo                                       0\n",
            "obito                                      0\n",
            "bairro                                     0\n",
            "raca_cor                                   0\n",
            "ocupacao                                   0\n",
            "religiao                                   0\n",
            "luz_eletrica                               0\n",
            "data_cadastro                              0\n",
            "escolaridade                               0\n",
            "nacionalidade                              0\n",
            "renda_familiar                             0\n",
            "data_nascimento                            0\n",
            "em_situacao_de_rua                         0\n",
            "frequenta_escola                           0\n",
            "meios_transporte                           0\n",
            "doencas_condicoes                          0\n",
            "identidade_genero                        952\n",
            "meios_comunicacao                          0\n",
            "orientacao_sexual                          0\n",
            "possui_plano_saude                         0\n",
            "em_caso_doenca_procura                     0\n",
            "situacao_profissional                      0\n",
            "vulnerabilidade_social                     0\n",
            "data_atualizacao_cadastro                  0\n",
            "familia_beneficiaria_auxilio_brasil        0\n",
            "crianca_matriculada_creche_pre_escola      0\n",
            "altura                                    25\n",
            "peso                                     184\n",
            "pressao_sistolica                         40\n",
            "pressao_diastolica                        17\n",
            "n_atendimentos_atencao_primaria            0\n",
            "n_atendimentos_hospital                    0\n",
            "updated_at                                 0\n",
            "tipo                                       0\n",
            "dtype: int64\n"
          ]
        }
      ]
    },
    {
      "cell_type": "markdown",
      "source": [
        "A identificação de colunas com valores ausentes revelou que algumas variáveis possuem taxas significativas de missing values. Esse dado é fundamental para avaliar a completude da informação e entender se a ausência dos dados pode impactar análises posteriores. Questões como a forma de coleta e a obrigatoriedade do preenchimento podem ser exploradas na próxima etapa."
      ],
      "metadata": {
        "id": "tWZlZGgAbxcQ"
      }
    },
    {
      "cell_type": "markdown",
      "source": [
        "## Classificação das variáveis\n",
        "\n",
        "O código abaixo permite classificar as variáveis em grupos, a fim de facilitar nossa análise. Como?\n",
        "Separando as colunas em grupos de acordo com seu significado e o tipo do dado que contém:\n",
        "*   Identificadores - códigos, não usados para análises estatísticas;\n",
        "*   Categóricas - contém categorias (ocupação, raça, sexo);\n",
        "*   Binárias - Sim/Não, 0/1 ou Verdadeiro/Falso;\n",
        "*   Numéricas - valores contínuos (altura, peso, pressão) ou discretos (idade);\n",
        "*   Datas - informações temporais;\n",
        "\n",
        "Para analisar cada tipo de variável separadamente, esse agrupamento é interessante."
      ],
      "metadata": {
        "id": "lyOqA3rQ9Jwh"
      }
    },
    {
      "cell_type": "code",
      "source": [
        "# Identificadores\n",
        "id_cols = ['id_paciente', 'updated_at', 'data_cadastro', 'data_atualizacao_cadastro']\n",
        "\n",
        "# Categóricas\n",
        "cat_cols = ['sexo', 'bairro', 'raca_cor', 'ocupacao', 'religiao', 'nacionalidade', 'escolaridade', 'renda_familiar', 'meios_transporte', 'doencas_condicoes',\n",
        "            'identidade_genero', 'meios_comunicacao', 'orientacao_sexual', 'situacao_profissional', 'em_caso_doenca_procura', 'tipo']\n",
        "# Binárias\n",
        "bin_cols = ['obito', 'luz_eletrica', 'em_situacao_de_rua', 'frequenta_escola', 'possui_plano_saude',\n",
        "            'familia_beneficiaria_auxilio_brasil', 'crianca_matriculada_creche_pre_escola', 'vulnerabilidade_social']\n",
        "\n",
        "# Numéricas\n",
        "num_cols = ['altura', 'peso', 'pressao_sistolica', 'pressao_diastolica', 'n_atendimentos_atencao_primaria', 'n_atendimentos_hospital']\n",
        "\n",
        "# Datas\n",
        "date_cols = ['data_nascimento']"
      ],
      "metadata": {
        "id": "mVLq9FNd_8Dz"
      },
      "execution_count": 10,
      "outputs": []
    },
    {
      "cell_type": "markdown",
      "source": [
        "## Explorando variáveis\n",
        "\n",
        "### Variáveis categóricas\n",
        "\n",
        "Para cada variável (coluna) categórica, vamos contar quantas vezes cada valor aparece. Isso vai nos permitir entender a distribuição dos dados, além de permitir identificar categorias díspares ou erros, tais como:\n",
        " Sexo = \"Fem\", \"Feminino\", \"Female\", \"F\". Isto é, escrita inconsistente.\n",
        " Religião com valores inesperados ou escritos de formas diferentes."
      ],
      "metadata": {
        "id": "wOIG4LX4EHHG"
      }
    },
    {
      "cell_type": "code",
      "source": [
        "print(\"\\nValores nas variáveis categóricas:\")\n",
        "for col in cat_cols:\n",
        "  print(f\"\\n{col}:\")\n",
        "  print(df[col].value_counts(dropna=False))"
      ],
      "metadata": {
        "colab": {
          "base_uri": "https://localhost:8080/"
        },
        "collapsed": true,
        "id": "nlVX9_HnEDmD",
        "outputId": "ef9740df-5775-42ec-e3fd-4297fb0d6e25"
      },
      "execution_count": 34,
      "outputs": [
        {
          "output_type": "stream",
          "name": "stdout",
          "text": [
            "\n",
            "Valores nas variáveis categóricas:\n",
            "\n",
            "sexo:\n",
            "sexo\n",
            "female    55488\n",
            "male      44512\n",
            "Name: count, dtype: int64\n",
            "\n",
            "bairro:\n",
            "bairro\n",
            "Campo Grande                     5873\n",
            "Santa cruz                       4297\n",
            "Bangu                            3963\n",
            "Realengo                         3382\n",
            "Guaratiba                        2856\n",
            "                                 ... \n",
            "Vila Pacheco da Rocha               1\n",
            "Parque São Pedro de Alcantara       1\n",
            "Manassu                             1\n",
            "Sapê                                1\n",
            "Jardim Passa Vinte                  1\n",
            "Name: count, Length: 748, dtype: int64\n",
            "\n",
            "raca_cor:\n",
            "raca_cor\n",
            "Parda       50856\n",
            "Branca      35113\n",
            "Preta       11373\n",
            "Amarela      2619\n",
            "Indígena       36\n",
            "Não             3\n",
            "Name: count, dtype: int64\n",
            "\n",
            "ocupacao:\n",
            "ocupacao\n",
            "Não se aplica                                                      47000\n",
            "Vendedor de Comércio Varejista                                      3091\n",
            "Empregado Doméstico Diarista                                        2328\n",
            "Administrador                                                       2236\n",
            "Vendedor Em Domicílio                                               1878\n",
            "                                                                   ...  \n",
            "Taxidermista                                                           1\n",
            "Técnico Em Plástico                                                    1\n",
            "Desenhista Técnico (arquitetura)                                       1\n",
            "Tecnólogo em alimentos                                                 1\n",
            "Supervisor da confecção de artefatos de tecidos, couros e afins        1\n",
            "Name: count, Length: 1355, dtype: int64\n",
            "\n",
            "religiao:\n",
            "religiao\n",
            "Sem religião                          35119\n",
            "Católica                              28348\n",
            "Outra                                 18714\n",
            "Evangélica                            14798\n",
            "Espírita                               1974\n",
            "Religião de matriz africana             731\n",
            "Não                                     174\n",
            "Budismo                                  81\n",
            "Judaísmo                                 32\n",
            "Islamismo                                 8\n",
            "Acomp. Cresc. e Desenv. da Criança        7\n",
            "Candomblé                                 6\n",
            "ESB ALMIRANTE                             5\n",
            "10 EAP 01                                 1\n",
            "ORQUIDEA                                  1\n",
            "Sim                                       1\n",
            "Name: count, dtype: int64\n",
            "\n",
            "nacionalidade:\n",
            "nacionalidade\n",
            "Brasileira      99660\n",
            "Estrangeiro       307\n",
            "Naturalizado       33\n",
            "Name: count, dtype: int64\n",
            "\n",
            "escolaridade:\n",
            "escolaridade\n",
            "Médio Completo               32704\n",
            "Fundamental Incompleto       21826\n",
            "Fundamental Completo         14301\n",
            "Alfabetizado                  8519\n",
            "Não sabe ler/escrever         8231\n",
            "Médio Incompleto              6434\n",
            "Superior completo             5904\n",
            "Superior incompleto           1887\n",
            "Especialização/Residência       88\n",
            "Mestrado                        70\n",
            "Doutorado                       36\n",
            "Name: count, dtype: int64\n",
            "\n",
            "renda_familiar:\n",
            "renda_familiar\n",
            "1 Salário Mínimo              43517\n",
            "2 Salários Mínimos            33444\n",
            "3 Salários Mínimos             9867\n",
            "1/2 Salário Mínimo             4825\n",
            "1/4 Salário Mínimo             3878\n",
            "4 Salários Mínimos             2864\n",
            "Mais de 4 Salários Mínimos     1603\n",
            "Manhã                             1\n",
            "Internet                          1\n",
            "Name: count, dtype: int64\n",
            "\n",
            "meios_transporte:\n",
            "meios_transporte\n",
            "Ônibus                                                                26363\n",
            "[]                                                                    14081\n",
            "Carro, Ônibus                                                         12088\n",
            "Carro, Metrô, Ônibus, Trem                                             5172\n",
            "Carro                                                                  4515\n",
            "                                                                      ...  \n",
            "[\"Trem\", \"\\u00d4nibus\", \"Carro\"]                                          1\n",
            "['Carro', 'Ônibus', 'Trem', 'Alternativo', 'Outros']                      1\n",
            "Alternativo, Animal, Bicicleta, Carro, Metrô, Ônibus, Outros, Trem        1\n",
            "[\"\\u00d4nibus\", \"Trem\", \"Carro\", \"Metr\\u00f4\", \"Bicicleta\"]               1\n",
            "[\"Carro\", \"Metr\\u00f4\", \"Bicicleta\", \"Trem\"]                              1\n",
            "Name: count, Length: 655, dtype: int64\n",
            "\n",
            "doencas_condicoes:\n",
            "doencas_condicoes\n",
            "[]                                                                         46043\n",
            "Hipertensão                                                                23423\n",
            "Diabetes, Hipertensão                                                      11254\n",
            "[\"Outros\"]                                                                  4903\n",
            "Diabetes                                                                    4134\n",
            "                                                                           ...  \n",
            "[\"Hipertens\\u00e3o\", \"Tentativa de Suic\\u00eddio\", \"Transtorno Mental\"]        1\n",
            "[\"Asma\", \"Tabagismo\"]                                                          1\n",
            "[\"AIDS\", \"Asma\"]                                                               1\n",
            "[\"AIDS\", \"Tabagismo\"]                                                          1\n",
            "['Def. Mental', 'Outros']                                                      1\n",
            "Name: count, Length: 277, dtype: int64\n",
            "\n",
            "identidade_genero:\n",
            "identidade_genero\n",
            "Não                            69781\n",
            "Cis                            21033\n",
            "Mulher transexual               3792\n",
            "Homem transexual                1939\n",
            "Outro                           1343\n",
            "Heterossexual                   1025\n",
            "NaN                              952\n",
            "Sim                               50\n",
            "Homossexual (gay / lésbica)       44\n",
            "Travesti                          35\n",
            "Bissexual                          6\n",
            "Name: count, dtype: int64\n",
            "\n",
            "meios_comunicacao:\n",
            "meios_comunicacao\n",
            "Internet, Televisão                                                19378\n",
            "Internet, Rádio, Televisão                                         14505\n",
            "[]                                                                 13682\n",
            "Televisão                                                           9620\n",
            "Internet                                                            8519\n",
            "                                                                   ...  \n",
            "[\"Outros\", \"Internet\", \"Televis\\u00e3o\", \"R\\u00e1dio\"]                 1\n",
            "[\"R\\u00e1dio\", \"Televis\\u00e3o\", \"Jornal\", \"Revista\", \"Outros\"]        1\n",
            "Jornal, Outros, Revista                                                1\n",
            "['Rádio', 'Jornal', 'Televisão', 'Revista', 'Internet']                1\n",
            "[\"Jornal\", \"R\\u00e1dio\", \"Televis\\u00e3o\", \"Internet\"]                 1\n",
            "Name: count, Length: 325, dtype: int64\n",
            "\n",
            "orientacao_sexual:\n",
            "orientacao_sexual\n",
            "Heterossexual                  93837\n",
            "Homossexual (gay / lésbica)     4132\n",
            "Outro                           1314\n",
            "Bissexual                        717\n",
            "Name: count, dtype: int64\n",
            "\n",
            "situacao_profissional:\n",
            "situacao_profissional\n",
            "Emprego Formal                             33306\n",
            "Não se aplica                              18469\n",
            "Desempregado                               16147\n",
            "Emprego Informal                           12823\n",
            "Pensionista / Aposentado                   10915\n",
            "Autônomo                                    4582\n",
            "Outro                                       1825\n",
            "Não trabalha                                1246\n",
            "Empregador                                   371\n",
            "Autônomo sem previdência social              199\n",
            "Autônomo com previdência social               95\n",
            "SMS CAPS DIRCINHA E LINDA BATISTA AP 33       21\n",
            "Médico Urologista                              1\n",
            "Name: count, dtype: int64\n",
            "\n",
            "em_caso_doenca_procura:\n",
            "em_caso_doenca_procura\n",
            "Hospital Público, Unidade de Saúde                                                            35578\n",
            "Hospital Público                                                                              16858\n",
            "[]                                                                                            13223\n",
            "Unidade de Saúde                                                                               8781\n",
            "Hospital Público, Rede Privada, Unidade de Saúde                                               6130\n",
            "                                                                                              ...  \n",
            "[\"Farm\\u00e1cia\", \"Unidade de Sa\\u00fade\"]                                                        1\n",
            "['Hospital Público', 'Rede Privada', 'Outros']                                                    1\n",
            "['Hospital Público', 'Unidade de Saúde', 'Rede Privada', 'Auxílio Espiritual', 'Farmácia']        1\n",
            "Auxílio Espiritual, Farmácia, Outros, Rede Privada                                                1\n",
            "[\"Farm\\u00e1cia\", \"Unidade de Sa\\u00fade\", \"Rede Privada\", \"Hospital P\\u00fablico\"]               1\n",
            "Name: count, Length: 168, dtype: int64\n",
            "\n",
            "tipo:\n",
            "tipo\n",
            "historico    92232\n",
            "rotineiro     7768\n",
            "Name: count, dtype: int64\n"
          ]
        }
      ]
    },
    {
      "cell_type": "markdown",
      "source": [
        "Algumas categorias apresentam valores inesperados, como \"Não\" na variável de raça/cor ou categorias estranhas na religião.\n",
        "Algumas variáveis possuem um número excessivo de categorias, como bairro (748 categorias) e ocupação (1.355 categorias), o que pode indicar problemas de padronização (ou não, a depender, por exemplo, do território em questão).\n",
        "Algumas categorias contêm caracteres especiais e diferentes formatos de escrita, o que pode impactar o tratamento dos dados.\n",
        "Esses pontos serão investigados na Parte 2 para garantir a confiabilidade da informação."
      ],
      "metadata": {
        "id": "hvzlvRwjcBOx"
      }
    },
    {
      "cell_type": "markdown",
      "source": [
        "### Variáveis Binárias\n",
        "\n",
        "Vamos listar os valores de cada variável binárias para verificarmos se hpa problemas de formatação como, por exemplo, termos \"0/1\" misturado com \"Sim/Não\""
      ],
      "metadata": {
        "id": "YKV-wu1vGgm1"
      }
    },
    {
      "cell_type": "code",
      "source": [
        "print(\"\\nValores nas variáveis binárias:\")\n",
        "for col in bin_cols:\n",
        "  print(f\"\\n{col}:\")\n",
        "  print(df[col].unique()) #Podemos ter \"1\", \"True\", \"Sim\" e etc."
      ],
      "metadata": {
        "colab": {
          "base_uri": "https://localhost:8080/"
        },
        "collapsed": true,
        "id": "MbpoS2fIG3CL",
        "outputId": "28e827b7-3b0e-4006-c939-c933c756cd6b"
      },
      "execution_count": 21,
      "outputs": [
        {
          "output_type": "stream",
          "name": "stdout",
          "text": [
            "\n",
            "Valores nas variáveis binárias:\n",
            "\n",
            "obito:\n",
            "['0' 'False' '1' 'True']\n",
            "\n",
            "luz_eletrica:\n",
            "['True' '1' '0' 'False']\n",
            "\n",
            "em_situacao_de_rua:\n",
            "['0' 'False' '1']\n",
            "\n",
            "frequenta_escola:\n",
            "[0 1]\n",
            "\n",
            "possui_plano_saude:\n",
            "['False' '1' '0' 'True']\n",
            "\n",
            "familia_beneficiaria_auxilio_brasil:\n",
            "['0' '1' 'False' 'True']\n",
            "\n",
            "crianca_matriculada_creche_pre_escola:\n",
            "['0' '1' 'False' 'True']\n",
            "\n",
            "vulnerabilidade_social:\n",
            "['0' '1' 'False' 'True']\n"
          ]
        }
      ]
    },
    {
      "cell_type": "markdown",
      "source": [
        "As variáveis booleanas apresentam inconsistências nos formatos, como valores misturados entre \"0/1\", \"True/False\" e até strings como \"Sim\". Essa falta de padronização pode gerar problemas em análises futuras, exigindo um pré-processamento adequado."
      ],
      "metadata": {
        "id": "Q4JfjLu0cbKp"
      }
    },
    {
      "cell_type": "markdown",
      "source": [
        "### Variáveis Numéricas\n",
        "\n",
        "Vamos calcular estatísticas das variáveis numéricas, tais como: média, valor mínimo, máximo e desvio padrão. Isso vai nos permitir veridicar se temos valores extremos (outliers) ou incosistentes com os dados. Se, por exemplo, a altura média estiver muito alta ou baixa, isso pode indicar erro nos dados."
      ],
      "metadata": {
        "id": "bArhIhvVHh57"
      }
    },
    {
      "cell_type": "code",
      "source": [
        "print(\"\\nEstatísticas das variáveis numéricas:\")\n",
        "print(df[num_cols].describe())"
      ],
      "metadata": {
        "colab": {
          "base_uri": "https://localhost:8080/"
        },
        "collapsed": true,
        "id": "Bh_5q6vvIIyg",
        "outputId": "518baec4-2dbd-4c58-fccd-0421916b5a41"
      },
      "execution_count": 23,
      "outputs": [
        {
          "output_type": "stream",
          "name": "stdout",
          "text": [
            "\n",
            "Estatísticas das variáveis numéricas:\n",
            "             altura          peso  pressao_sistolica  pressao_diastolica  \\\n",
            "count  99975.000000  99816.000000       99960.000000        99983.000000   \n",
            "mean     142.693589     63.801629         129.544068           79.378207   \n",
            "std       38.659345     35.594173          21.406429           21.062140   \n",
            "min        0.000000      0.000000           0.000000            0.000000   \n",
            "25%      145.000000     50.700000         120.000000           70.000000   \n",
            "50%      158.000000     67.900000         130.000000           80.000000   \n",
            "75%      165.000000     82.000000         140.000000           87.000000   \n",
            "max      810.000000    998.000000         900.000000          921.000000   \n",
            "\n",
            "       n_atendimentos_atencao_primaria  n_atendimentos_hospital  \n",
            "count                    100000.000000            100000.000000  \n",
            "mean                          5.542710                 7.312930  \n",
            "std                           5.204464                 9.801987  \n",
            "min                           0.000000                 0.000000  \n",
            "25%                           0.000000                 0.000000  \n",
            "50%                           5.000000                 2.000000  \n",
            "75%                           9.000000                13.000000  \n",
            "max                          32.000000                77.000000  \n"
          ]
        }
      ]
    },
    {
      "cell_type": "markdown",
      "source": [
        "Os valores mínimos de altura, peso e pressão arterial são 0, o que pode indicar erros na coleta ou no armazenamento.\n",
        "Os valores máximos de altura (810 cm) e peso (998 kg) são irreais, sugerindo erros de digitação ou problemas no sistema de registro.\n",
        "A distribuição dos atendimentos hospitalares e na atenção primária tem uma grande variação, o que pode indicar diferentes perfis de uso dos serviços de saúde.\n",
        "Esses achados serão explorados na Parte 2 para entender a origem desses problemas e como corrigi-los."
      ],
      "metadata": {
        "id": "Np6Pg2EOchWQ"
      }
    },
    {
      "cell_type": "markdown",
      "source": [
        "## Identificar dados incoerentes com as variáveis\n",
        "\n",
        "Aqui, verificamos possíveis erros nos nossos dados.\n",
        "Vamos tomar as variáveis: altura, peso e idade.\n",
        "Vamos filtrar pacientes com altura ou peso fora do esperado, lembrando sempre de observar se temos um erro de digitaçao contornável (ex: 1800 cm ao invés de 180 cm) ou não. Vamos também converter a data de nascimento em idade em busca de pessoas com idade negativa ou maior que 120 anos.\n",
        "\n",
        " O peso normal de um recém-nascido varia entre 2.500 e 4.500 gramas, com média de 3.400 gramas.\n",
        " A altura média de um bebê recém-nascido a termo é de 50 cm."
      ],
      "metadata": {
        "id": "V2L9D615Ij6X"
      }
    },
    {
      "cell_type": "code",
      "source": [
        "print(\"\\nAlturas menores que 50 cm ou maiores que 250 cm:\")\n",
        "print(df[(df['altura'] < 50) | (df['altura'] >250)][['altura']])\n",
        "\n",
        "print(\"\\nPesos menores que 3.4 kg ou maiores que 200 kg:\")\n",
        "print(df[(df['peso'] < 2.02) | (df['peso'] >200)][['peso']])"
      ],
      "metadata": {
        "colab": {
          "base_uri": "https://localhost:8080/"
        },
        "collapsed": true,
        "id": "fUAXrOCLJSi0",
        "outputId": "bdf8c63f-2fda-4646-d7e3-b5fc26a21674"
      },
      "execution_count": 31,
      "outputs": [
        {
          "output_type": "stream",
          "name": "stdout",
          "text": [
            "\n",
            "Alturas menores que 50 cm ou maiores que 250 cm:\n",
            "       altura\n",
            "40       48.0\n",
            "53       47.0\n",
            "614       0.0\n",
            "615       0.0\n",
            "616       0.0\n",
            "...       ...\n",
            "99820    17.5\n",
            "99840    37.9\n",
            "99870    48.0\n",
            "99966    34.7\n",
            "99986    46.0\n",
            "\n",
            "[1571 rows x 1 columns]\n",
            "\n",
            "Pesos menores que 3.4 kg ou maiores que 200 kg:\n",
            "         peso\n",
            "2972   657.00\n",
            "2974   414.00\n",
            "2986   954.00\n",
            "2988   849.00\n",
            "4138     1.95\n",
            "...       ...\n",
            "95067    0.00\n",
            "95292    0.00\n",
            "96235  302.00\n",
            "97168  488.00\n",
            "98183  578.00\n",
            "\n",
            "[151 rows x 1 columns]\n"
          ]
        }
      ]
    },
    {
      "cell_type": "markdown",
      "source": [
        "Altura: Foram encontrados 1.571 registros com valores menores que 50 cm ou maiores que 250 cm, o que pode indicar a existência de erros na coleta ou digitação.\n",
        "Peso: Foram identificados 151 registros abaixo de 3.4 kg ou acima de 200 kg, o que também aponta para problemas similares."
      ],
      "metadata": {
        "id": "ViIDInY4cpIp"
      }
    },
    {
      "cell_type": "code",
      "source": [
        "df['data_nascimento'] = pd.to_datetime(df['data_nascimento'], errors = 'coerce')\n",
        "df['idade'] = (pd.to_datetime('today') - df['data_nascimento']).dt.days / 365.25\n",
        "\n",
        "print(\"\\nIdades menores que 0 anos ou maiores que 120 anos:\")\n",
        "print(df[(df['idade'] < 0) | (df['idade'] >120)][['idade']])"
      ],
      "metadata": {
        "colab": {
          "base_uri": "https://localhost:8080/"
        },
        "collapsed": true,
        "id": "PDmtI6aAJcE4",
        "outputId": "c1730960-c4aa-4b5f-abde-6e9078b5948f"
      },
      "execution_count": 33,
      "outputs": [
        {
          "output_type": "stream",
          "name": "stdout",
          "text": [
            "\n",
            "Idades menores que 0 anos ou maiores que 120 anos:\n",
            "Empty DataFrame\n",
            "Columns: [idade]\n",
            "Index: []\n"
          ]
        }
      ]
    },
    {
      "cell_type": "markdown",
      "source": [
        "Nenhum valor extremo foi encontrado, indicando que essa variável pode estar com dados mais consistentes.\n",
        "Esses achados são importantes para definir estratégias de limpeza e imputação dos dados na Parte 2."
      ],
      "metadata": {
        "id": "61d18GKSc26R"
      }
    }
  ]
}